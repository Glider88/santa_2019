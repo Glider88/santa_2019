{
 "cells": [
  {
   "cell_type": "code",
   "execution_count": 2,
   "metadata": {},
   "outputs": [],
   "source": [
    "import pandas as pd\n",
    "import numpy as np\n",
    "\n",
    "cities_df = pd.read_csv(\"../input/cities.csv\")\n",
    "sample_df = pd.read_csv(\"../input/sample.csv\")\n",
    "\n",
    "cityId = cities_df[\"CityId\"]\n",
    "x = cities_df[\"X\"]\n",
    "y = cities_df[\"Y\"]\n"
   ]
  },
  {
   "cell_type": "code",
   "execution_count": 3,
   "metadata": {},
   "outputs": [
    {
     "data": {
      "text/plain": [
       "<Figure size 1500x1500 with 1 Axes>"
      ]
     },
     "metadata": {},
     "output_type": "display_data"
    }
   ],
   "source": [
    "import matplotlib.pyplot as plt\n",
    "\n",
    "fig = plt.figure(figsize=(15,15))\n",
    "plt.scatter(x, y, marker='o', s=1, color='b', linewidths=0)\n",
    "plt.scatter(x[0],y[0], marker='o', color='r', linewidths=1)\n",
    "plt.xlabel(\"x\")\n",
    "plt.ylabel(\"y\")\n",
    "plt.title(\"Reindeer Scatter\")\n",
    "plt.show()"
   ]
  },
  {
   "cell_type": "code",
   "execution_count": 4,
   "metadata": {},
   "outputs": [],
   "source": [
    "def total_distance(cities_df, track):\n",
    "    prev_city = track[0]\n",
    "    total_distance = 0\n",
    "    step_num = 1\n",
    "    for city_num in track[1:]:\n",
    "        next_city = city_num\n",
    "        total_distance = total_distance + \\\n",
    "            np.sqrt(pow((cities_df.X[city_num] - cities_df.X[prev_city]),2) + pow((cities_df.Y[city_num] - cities_df.Y[prev_city]),2)) * \\\n",
    "            (1+ 0.1*((step_num % 10 == 0)*int(not(prime_cities[prev_city]))))\n",
    "        prev_city = next_city\n",
    "        step_num = step_num + 1\n",
    "    return total_distance"
   ]
  }
 ],
 "metadata": {
  "kernelspec": {
   "display_name": "Python 3",
   "language": "python",
   "name": "python3"
  },
  "language_info": {
   "codemirror_mode": {
    "name": "ipython",
    "version": 3
   },
   "file_extension": ".py",
   "mimetype": "text/x-python",
   "name": "python",
   "nbconvert_exporter": "python",
   "pygments_lexer": "ipython3",
   "version": "3.6.5"
  }
 },
 "nbformat": 4,
 "nbformat_minor": 2
}
