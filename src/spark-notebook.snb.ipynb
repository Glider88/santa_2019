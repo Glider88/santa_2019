{
  "metadata" : {
    "id" : "a44602e4-590e-4443-ba9c-8410437b887d",
    "name" : "spark-notebook.snb.ipynb",
    "user_save_timestamp" : "2018-12-13T11:42:31.041Z",
    "auto_save_timestamp" : "1970-01-01T00:00:00.000Z",
    "language_info" : {
      "name" : "scala",
      "file_extension" : "scala",
      "codemirror_mode" : "text/x-scala"
    },
    "trusted" : true,
    "sparkNotebook" : null,
    "customLocalRepo" : null,
    "customRepos" : null,
    "customDeps" : null,
    "customImports" : null,
    "customArgs" : null,
    "customSparkConf" : null,
    "customVars" : null
  },
  "cells" : [ ]
}